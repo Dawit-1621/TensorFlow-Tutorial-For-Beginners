{
 "cells": [
  {
   "cell_type": "markdown",
   "metadata": {},
   "source": [
    "# TensorFlow Tutorial For Beginners"
   ]
  },
  {
   "cell_type": "markdown",
   "metadata": {},
   "source": [
    "In this tutorial we will learn how to build a neural network and how to train, evaluate and optimize it with TensorFlow"
   ]
  },
  {
   "cell_type": "markdown",
   "metadata": {},
   "source": [
    "Deep learning is a subfield of machine learning that is a set of algorithms that is inspired by the structure and function of the brain.\n",
    "\n",
    "TensorFlow is the second machine learning framework that Google created and used to design, build, and train deep learning models. You can use the TensorFlow library do to numerical computations, which in itself doesn’t seem all too special, but these computations are done with data flow graphs. In these graphs, nodes represent mathematical operations, while the edges represent the data, which usually are multidimensional data arrays or tensors, that are communicated between these edges."
   ]
  },
  {
   "cell_type": "markdown",
   "metadata": {},
   "source": [
    "You see? The name “TensorFlow” is derived from the operations which neural networks perform on multidimensional data arrays or tensors! It’s literally a flow of tensors. For now, this is all you need to know about tensors, but you’ll go deeper into this in the next sections!\n",
    "\n",
    "Today’s TensorFlow tutorial for beginners will introduce you to performing deep learning in an interactive way:\n",
    "\n",
    "You’ll first learn more about tensors;\n",
    "Then, the tutorial you’ll briefly go over some of the ways that you can install TensorFlow on your system so that you’re able to get started and load data in your workspace;\n",
    "After this, you’ll go over some of the TensorFlow basics: you’ll see how you can easily get started with simple computations.\n",
    "After this, you get started on the real work: you’ll load in data on Belgian traffic signs and exploring it with simple statistics and plotting.\n",
    "In your exploration, you’ll see that there is a need to manipulate your data in such a way that you can feed it to your model. That’s why you’ll take the time to rescale your images and convert them to grayscale.\n",
    "Next, you can finally get started on your neural network model! You’ll build up your model layer per layer;\n",
    "Once the architecture is set up, you can use it to train your model interactively and to eventually also evaluate it by feeding some test data to it.\n",
    "Lastly, you’ll get some pointers for further improvements that you can do to the model you just constructed and how you can continue your learning with TensorFlow."
   ]
  },
  {
   "cell_type": "code",
   "execution_count": null,
   "metadata": {},
   "outputs": [],
   "source": [
    "Scalars, Vectors and Matrices"
   ]
  },
  {
   "cell_type": "markdown",
   "metadata": {},
   "source": [
    "Scalars\n",
    "A matrix having only one row and one column is called a scalar. In other words, a scalar is a single number."
   ]
  },
  {
   "attachments": {},
   "cell_type": "markdown",
   "metadata": {},
   "source": [
    "Vectors\n",
    "If a matrix has only one row or only one column it is called a vector.\n",
    "\n",
    "A matrix having only one row is called a row vector. is a row vector, because it has only one row.\n",
    "\n",
    "A matrix having only one column is called a column vector.is a column vector because it has only one column."
   ]
  },
  {
   "cell_type": "markdown",
   "metadata": {},
   "source": [
    "Matrix\n",
    "A matrix is a two-dimensional array that has a fixed number of rows and columns and contains a number at the intersection of each row and column. A matrix is usually delimited by square brackets.\n",
    "\n",
    "Dimension of a matrix\n",
    "The number of rows and columns of a matrix constitute its dimension. If a matrix has K rows and L columns, we say that it is a K imes L matrix, or that it has dimension K\times L."
   ]
  },
  {
   "cell_type": "code",
   "execution_count": null,
   "metadata": {},
   "outputs": [],
   "source": []
  }
 ],
 "metadata": {
  "kernelspec": {
   "display_name": "Python 3",
   "language": "python",
   "name": "python3"
  },
  "language_info": {
   "codemirror_mode": {
    "name": "ipython",
    "version": 3
   },
   "file_extension": ".py",
   "mimetype": "text/x-python",
   "name": "python",
   "nbconvert_exporter": "python",
   "pygments_lexer": "ipython3",
   "version": "3.7.9"
  }
 },
 "nbformat": 4,
 "nbformat_minor": 4
}
